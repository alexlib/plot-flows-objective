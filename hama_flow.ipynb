{
 "cells": [
  {
   "cell_type": "code",
   "execution_count": 80,
   "metadata": {
    "collapsed": false
   },
   "outputs": [],
   "source": [
    "import matplotlib as mpl\n",
    "import matplotlib.pyplot as mplt\n",
    "import numpy as np\n",
    "\n",
    "# Set some plotting parameters\n",
    "mpl.rcParams['lines.linewidth'] = 2;\n",
    "\n",
    "# Font Size\n",
    "fontSize_text = 16;\n",
    "fontSize_latex = 24;\n",
    "\n",
    "# This turns on inline plotting\n",
    "%matplotlib inline"
   ]
  },
  {
   "cell_type": "markdown",
   "metadata": {},
   "source": [
    "Declare some latex things\n",
    "$ \\DeclareMathOperator{\\sech}{sech} $"
   ]
  },
  {
   "cell_type": "markdown",
   "metadata": {},
   "source": [
    "The mean velocity $\\mathbf{u_o}\\left(x, y\\right) = u_o\\left(x, y\\right) \\hat{i} + v_o\\left(x, y\\right) \\hat{j}$ of an example shear flow is given by:\n",
    "\n",
    "$u_o = 1 + \\tanh y$  \n",
    "\n",
    "$v_o = 0$\n",
    "\n",
    "The perturbed velocity amplitudes are given by:  \n",
    "\n",
    "$u^\\prime = a \\hat{u}\\left(y\\right) \\sin \\alpha \\left(x - c t \\right)$  \n",
    "    $ = 2a \\sech y \\tanh y \\sin \\alpha \\left(x - ct \\right)$  \n",
    "\n",
    "$v^\\prime = a \\hat{v}\\left(y\\right) \\cos \\alpha \\left(x - ct \\right)$  \n",
    "    $ = 2a \\sech y \\cos \\alpha \\left(x - ct\\right)$\n",
    "\n",
    "Here, $a$ is the amplitude of the fluctuating velocity, and $\\alpha = 2 \\pi / \\lambda$ is the wave number of the perturbation. $c$ is the wave speed. In this example, we set $c = a = \\alpha = 1$.\n",
    "\n",
    "The mean and fluctuating vorticities, $\\zeta_o$ and $\\zeta^\\prime$, are given by:\n",
    "\n",
    "$\\zeta_o = \\partial v_o / \\partial x - \\partial u_o / \\partial y = - \\sech^2 y $  \n",
    "\n",
    "$\\zeta^\\prime = \\partial v^\\prime / \\partial x - \\partial u^\\prime / \\partial y = -4 a \\sech^3 y \\sin\\left(\\alpha \\left(x - c t \\right) \\right)$  \n",
    "\n"
   ]
  },
  {
   "cell_type": "code",
   "execution_count": 113,
   "metadata": {
    "collapsed": false
   },
   "outputs": [],
   "source": [
    "# Form the Y coordinate vector\n",
    "y = np.linspace(0, 3, 100);\n",
    "\n",
    "# Calculate the mean velocity\n",
    "u_o = 1 + np.tanh(y);\n",
    "\n",
    "# Calculate the velocity amplitude functions u^ and v^\n",
    "a = 1;\n",
    "u_hat = 2 * a * (1  / np.cosh(y)) * np.tanh(y);\n",
    "v_hat = 2 * a * ( 1 / np.cosh(y));\n"
   ]
  },
  {
   "cell_type": "code",
   "execution_count": 151,
   "metadata": {
    "collapsed": false
   },
   "outputs": [
    {
     "data": {
      "image/png": "[encoded data removed]",
      "text/plain": [
       "<matplotlib.figure.Figure at 0x111180e10>"
      ]
     },
     "metadata": {},
     "output_type": "display_data"
    }
   ],
   "source": [
    "# Define the plot\n",
    "# The commas are necessary for the legend to work\n",
    "u_o_plot, = mplt.plot(u_o, y, '-k', label = '$u_o$');\n",
    "u_hat_plot, = mplt.plot(u_hat, y, '-r', label = '$\\hat{u}$');\n",
    "v_hat_plot, = mplt.plot(v_hat, y, '-b', label = '$\\hat{v}$');\n",
    "\n",
    "# Formatting\n",
    "mplt.ylabel('$y$', fontsize = fontSize_latex)\n",
    "mplt.xlabel('$u_o$', fontsize = fontSize_latex)\n",
    "mplt.title('Steady and unsteady velocity amplitudes', fontsize = 0.8 * fontSize_text)\n",
    "mplt.axis('square')\n",
    "mplt.axis([0, 4, 0, 3])\n",
    "mplt.grid('on')\n",
    "\n",
    "# Make a legend\n",
    "mplt.legend([u_o_plot, u_hat_plot, v_hat_plot], \\\n",
    "            [\"$u_o$\", \"$\\hat{u}$\", \"$\\hat{v}$\"], \\\n",
    "            fontsize=fontSize_latex, loc = 5)\n",
    "\n",
    "\n",
    "# Show the plot\n",
    "mplt.show()\n"
   ]
  },
  {
   "cell_type": "code",
   "execution_count": null,
   "metadata": {
    "collapsed": true
   },
   "outputs": [],
   "source": []
  },
  {
   "cell_type": "code",
   "execution_count": null,
   "metadata": {
    "collapsed": true
   },
   "outputs": [],
   "source": []
  },
  {
   "cell_type": "code",
   "execution_count": null,
   "metadata": {
    "collapsed": true
   },
   "outputs": [],
   "source": []
  }
 ],
 "metadata": {
  "kernelspec": {
   "display_name": "Python 2",
   "language": "python",
   "name": "python2"
  },
  "language_info": {
   "codemirror_mode": {
    "name": "ipython",
    "version": 2
   },
   "file_extension": ".py",
   "mimetype": "text/x-python",
   "name": "python",
   "nbconvert_exporter": "python",
   "pygments_lexer": "ipython2",
   "version": "2.7.11"
  }
 },
 "nbformat": 4,
 "nbformat_minor": 0
}
