{
 "cells": [
  {
   "cell_type": "code",
   "execution_count": 1,
   "metadata": {
    "collapsed": false
   },
   "outputs": [
    {
     "name": "stderr",
     "output_type": "stream",
     "text": [
      "C:\\Users\\bhattac3\\Anaconda3\\lib\\site-packages\\matplotlib\\__init__.py:1350: UserWarning:  This call to matplotlib.use() has no effect\n",
      "because the backend has already been chosen;\n",
      "matplotlib.use() must be called *before* pylab, matplotlib.pyplot,\n",
      "or matplotlib.backends is imported for the first time.\n",
      "\n",
      "  warnings.warn(_use_error_msg)\n"
     ]
    }
   ],
   "source": [
    "import os\n",
    "import flows\n",
    "import numpy as np\n",
    "import pdb\n",
    "\n",
    "num_particles_y = 7\n",
    "num_particles_x = 1\n",
    "\n",
    "# Coordinates\n",
    "xv = np.linspace(0, 0, num_particles_x)\n",
    "yv = np.linspace(-1, 1, num_particles_y)\n",
    "\n",
    "xm, ym = np.meshgrid(xv, yv)\n",
    "\n",
    "x = xm.flatten()\n",
    "y = ym.flatten()\n",
    "\n",
    "# Z values\n",
    "z = np.zeros(len(x))\n",
    "\n",
    "# Make them a vector\n",
    "y0 = [x, y, z]\n",
    "\n",
    "a = 0.05\n",
    "alpha = 1\n",
    "c = 1\n",
    "\n",
    "# Domain\n",
    "xd = (-1.1, 24.0)\n",
    "yd = (-5, 5)\n",
    "zd = (-1, 1)\n",
    "\n",
    "# Hama flow constants\n",
    "extra_args = [a, alpha, c]\n",
    "\n",
    "# Plot type\n",
    "plot_type = \"streak\"\n",
    "\n",
    "# Flow type\n",
    "flow_type = \"hama\"\n",
    "\n",
    "# New particle distance\n",
    "NewParticleDistance = 0.1\n",
    "\n",
    "# Time stuff\n",
    "sim_time = [0, 10, 0.1]\n",
    "\n",
    "sim = flows.Simulation(x_domain=xd,\n",
    "                       y_domain=yd,\n",
    "                       z_domain=zd,\n",
    "                       y0=y0,\n",
    "                       flow_type=flow_type,\n",
    "                       plot_type=plot_type,\n",
    "                       time=sim_time,\n",
    "                       NewParticleDistance=NewParticleDistance,\n",
    "                       extra_args=extra_args)\n",
    "\n",
    "# Run the simulation                                \n",
    "sim.Run()\n",
    "# print(sim)"
   ]
  }
 ],
 "metadata": {
  "kernelspec": {
   "display_name": "Python 3",
   "language": "python",
   "name": "python3"
  },
  "language_info": {
   "codemirror_mode": {
    "name": "ipython",
    "version": 3
   },
   "file_extension": ".py",
   "mimetype": "text/x-python",
   "name": "python",
   "nbconvert_exporter": "python",
   "pygments_lexer": "ipython3",
   "version": "3.5.1"
  }
 },
 "nbformat": 4,
 "nbformat_minor": 0
}
